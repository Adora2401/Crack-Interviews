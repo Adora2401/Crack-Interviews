{
 "cells": [
  {
   "cell_type": "markdown",
   "metadata": {},
   "source": [
    "1）如果复杂程度类似， 面试中尽量优先使用BFS\n",
    "（2）BFS主要几种场景： 层级遍历，拓扑排序，图上搜索（包括二叉树，矩阵）\n",
    "（3）Queue的使用技巧，BFS的终止条件？\n",
    "（4）什么时候使用分层？什么时候不需要？实现的时候的区别在哪里？\n",
    "（5）拓扑排序的概念？如何判断是否存在拓扑排序？是否存在唯一的拓扑排序？找到所有拓扑排序？\n",
    "（6）什么时候需要使用set记录访问过的节点？（为什么二叉树上的BFS往往不需要set？）什么时候需要map记录到达过的节点距离？\n",
    "（7）如何在矩阵中遍历下一步的所有节点？如果每次可能走不止一步怎么办（Maze II）？\n",
    "（8）为什么BFS解决的基本都是简单图（边长为1）问题？如果边长不为1，该怎么办？\n",
    "（9）BFS的时空复杂度估算？\n",
    "（10）如何使用双向BFS进行优化？"
   ]
  },
  {
   "cell_type": "code",
   "execution_count": null,
   "metadata": {},
   "outputs": [],
   "source": [
    "# 二叉树:\n",
    "297. Serialize and Deserialize Binary Tree\n",
    "https://leetcode.com/problems/se ... ialize-binary-tree/\n",
    "102. Binary Tree Level Order Traversal\n",
    "https://leetcode.com/problems/binary-tree-level-order-traversal/\n",
    "103. Binary Tree Zigzag Level Order Traversal\n",
    "https://leetcode.com/problems/bi ... el-order-traversal/\n",
    "107. Binary Tree Level Order Traversal II\n",
    "https://leetcode.com/problems/bi ... order-traversal-ii/\n",
    "513. Find Bottom Left Tree Value\n",
    "https://leetcode.com/problems/find-bottom-left-tree-value/\n",
    "Lint-242. Convert Binary Tree to Linked Lists by Depth\n",
    "https://www.lintcode.com/problem ... y-depth/description\n",
    "# 拓扑排序:\n",
    "Lint-127. Topological Sorting\n",
    "https://www.lintcode.com/problem/topological-sorting/description\n",
    "207. Course Schedule\n",
    "https://leetcode.com/problems/course-schedule/\n",
    "210. Course Schedule II\n",
    "https://leetcode.com/problems/course-schedule-ii/\n",
    "269. Alien Dictionary\n",
    "https://leetcode.com/problems/alien-dictionary/\n",
    "444. Sequence Reconstruction\n",
    "https://leetcode.com/problems/sequence-reconstruction/\n",
    "# 矩阵:\n",
    "200. Number of Islands\n",
    "https://leetcode.com/problems/number-of-islands/\n",
    "490. The Maze\n",
    "https://leetcode.com/problems/the-maze/\n",
    "505. The Maze II\n",
    "https://leetcode.com/problems/the-maze-ii/\n",
    "542. 01 Matrix\n",
    "https://leetcode.com/problems/01-matrix/\n",
    "733. Flood Fill\n",
    "https://leetcode.com/problems/flood-fill/\n",
    "994. Rotting Oranges\n",
    "https://leetcode.com/problems/rotting-oranges/\n",
    "305. Number of Islands II\n",
    "https://leetcode.com/problems/number-of-islands-ii/\n",
    "773. Sliding Puzzle\n",
    "https://leetcode.com/problems/sliding-puzzle/\n",
    "Lint-573. Build Post Office II\n",
    "https://www.lintcode.com/problem/build-post-office-ii/description\n",
    "Lint-598. Zombie in Matrix\n",
    "https://www.lintcode.com/problem/zombie-in-matrix/description\n",
    "Lint-611. Knight Shortest Path\n",
    "https://www.lintcode.com/problem/knight-shortest-path/description\n",
    "Lint-794. Sliding Puzzle II\n",
    "https://www.lintcode.com/problem/sliding-puzzle-ii/description\n",
    "# 图:\n",
    "133. Clone Graph\n",
    "https://leetcode.com/problems/clone-graph/\n",
    "127. Word Ladder\n",
    "https://leetcode.com/problems/word-ladder/\n",
    "261. Graph Valid Tree\n",
    "https://leetcode.com/problems/graph-valid-tree/\n",
    "841. Keys and Rooms\n",
    "https://leetcode.com/problems/keys-and-rooms/\n",
    "323. Number of Connected Components in an Undirected Graph\n",
    "https://leetcode.com/problems/nu ... n-undirected-graph/\n",
    "1306. Jump Game III\n",
    "https://leetcode.com/problems/jump-game-iii/\n",
    "Lint-531. Six Degree\n",
    "https://www.lintcode.com/problem/six-degrees/description\n",
    "Lint-618. Search Graph Nodes\n",
    "https://www.lintcode.com/problem/search-graph-nodes/description\n",
    "Lint-624. Remove Substrings\n",
    "https://www.lintcode.com/problem/remove-substrings/description\n"
   ]
  }
 ],
 "metadata": {
  "kernelspec": {
   "display_name": "Python 3.9.10 64-bit ('3.9.10')",
   "language": "python",
   "name": "python3"
  },
  "language_info": {
   "name": "python",
   "version": "3.9.10"
  },
  "orig_nbformat": 4,
  "vscode": {
   "interpreter": {
    "hash": "aa2211a441334c7f2624a15073580de21bf292f6a92a2e8a80a4aaa186ae135e"
   }
  }
 },
 "nbformat": 4,
 "nbformat_minor": 2
}
