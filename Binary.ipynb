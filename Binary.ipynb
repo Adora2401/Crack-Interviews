{
 "cells": [
  {
   "cell_type": "markdown",
   "metadata": {},
   "source": [
    "# 朴素二分法"
   ]
  },
  {
   "cell_type": "code",
   "execution_count": null,
   "metadata": {},
   "outputs": [],
   "source": [
    "# 704. Binary Search\n",
    "# https://leetcode.com/problems/binary-search/\n",
    "class Solution:\n",
    "    def search(self, nums: List[int], target: int) -> int:\n",
    "        left, right = 0, len(nums) - 1\n",
    "        while left <= right:\n",
    "            mid = left + (right - left) // 2\n",
    "            if nums[mid] == target:\n",
    "                return mid\n",
    "            elif nums[mid] > target:\n",
    "                right = mid - 1\n",
    "            else:\n",
    "                left = mid + 1\n",
    "        return -1"
   ]
  },
  {
   "cell_type": "code",
   "execution_count": null,
   "metadata": {},
   "outputs": [],
   "source": [
    "# 34. Find First and Last Position of Element in Sorted Array\n",
    "# https://leetcode.com/problems/fi ... nt-in-sorted-array/\n",
    "class Solution:\n",
    "    def searchRange(self, nums: List[int], target: int) -> List[int]:\n",
    "        def findLeft(nums, target):\n",
    "            left, right = 0, len(nums) - 1\n",
    "            while left <= right:\n",
    "                mid = left + (right - left) // 2\n",
    "                if nums[mid] == target:\n",
    "                    right = mid - 1\n",
    "                elif nums[mid] > target:\n",
    "                    right = mid - 1\n",
    "                else:\n",
    "                    left = mid + 1\n",
    "            if left >= len(nums) or nums[left] != target:\n",
    "                return -1\n",
    "            else:\n",
    "                return left\n",
    "        def findRight(nums, target):\n",
    "            left, right = 0, len(nums) - 1\n",
    "            while left <= right:\n",
    "                mid = left + (right - left) // 2\n",
    "                if nums[mid] == target:\n",
    "                    left = mid + 1\n",
    "                elif nums[mid] > target:\n",
    "                    right = mid -1 \n",
    "                else:\n",
    "                    left = mid + 1\n",
    "            if right < 0 or nums[right] != target:\n",
    "                return -1\n",
    "            else:\n",
    "                return right\n",
    "        return [findLeft(nums, target), findRight(nums,target)]"
   ]
  },
  {
   "cell_type": "code",
   "execution_count": null,
   "metadata": {},
   "outputs": [],
   "source": [
    "# 702. Search in a Sorted Array of Unknown Size\n",
    "# https://leetcode.com/problems/se ... ay-of-unknown-size/\n",
    "# \"\"\"\n",
    "# This is ArrayReader's API interface.\n",
    "# You should not implement it, or speculate about its implementation\n",
    "# \"\"\"\n",
    "#class ArrayReader:\n",
    "#    def get(self, index: int) -> int:\n",
    "\n",
    "class Solution:\n",
    "    def search(self, reader: 'ArrayReader', target: int) -> int:\n",
    "        if reader.get(0) == target:\n",
    "            return 0\n",
    "        # left, right = 0, 1\n",
    "        # while reader.get(right) < target: #(O(logn))\n",
    "        #     left = right\n",
    "        #     right *= 2\n",
    "        \n",
    "        #考虑到所有的数字都是unique, 那么如果first element为 1, target = 10, right在worst case下 = (target - first)\n",
    "        left = 0  \n",
    "        right = target - reader.get(0) #O(1)\n",
    "        while left <= right:\n",
    "            mid = left + (right - left) // 2\n",
    "            if reader.get(mid) == target:\n",
    "                return mid\n",
    "            elif reader.get(mid) > target:\n",
    "                right = mid - 1\n",
    "            else:\n",
    "                left = mid + 1\n",
    "        return -1"
   ]
  },
  {
   "cell_type": "code",
   "execution_count": null,
   "metadata": {},
   "outputs": [],
   "source": [
    "# 153. Find Minimum in Rotated Sorted Array\n",
    "# https://leetcode.com/problems/fi ... tated-sorted-array/\n",
    "class Solution:\n",
    "    def findMin(self, nums: List[int]) -> int:\n",
    "        if len(nums) == 1:\n",
    "            return nums[0]\n",
    "        left, right = 0, len(nums) - 1\n",
    "        if nums[right] > nums[0]:\n",
    "            return nums[0]\n",
    "        while left <= right:\n",
    "            mid = left + (right - left) // 2\n",
    "            if nums[mid] > nums[mid + 1]:\n",
    "                return nums[mid + 1]\n",
    "            if nums[mid - 1] > nums[mid]:\n",
    "                return nums[mid]\n",
    "            if nums[mid] > nums[0]:\n",
    "                left = mid + 1\n",
    "            else:\n",
    "                right = mid - 1\n"
   ]
  },
  {
   "cell_type": "code",
   "execution_count": null,
   "metadata": {},
   "outputs": [],
   "source": [
    "# 154. Find Minimum in Rotated Sorted Array II\n",
    "# https://leetcode.com/problems/fi ... ed-sorted-array-ii/\n",
    "class Solution:\n",
    "    def findMin(self, nums: List[int]) -> int:\n",
    "        left, right = 0, len(nums) - 1\n",
    "        while left <= right:\n",
    "            mid = left + (right - left) // 2\n",
    "            if nums[mid] < nums[right]:\n",
    "                right = mid\n",
    "            elif nums[mid] > nums[right]:\n",
    "                left = mid + 1\n",
    "            else:\n",
    "                right -= 1\n",
    "        return nums[left]\n",
    "    #好好画图 分析情况"
   ]
  },
  {
   "cell_type": "code",
   "execution_count": null,
   "metadata": {},
   "outputs": [],
   "source": [
    "# 278. First Bad Version\n",
    "# https://leetcode.com/problems/first-bad-version/\n",
    "# The isBadVersion API is already defined for you.\n",
    "# def isBadVersion(version: int) -> bool:\n",
    "\n",
    "class Solution:\n",
    "    def firstBadVersion(self, n: int) -> int:\n",
    "        left, right = 1, n\n",
    "        while left <= right:\n",
    "            mid = left + (right - left) // 2\n",
    "            if isBadVersion(mid):\n",
    "                right = mid - 1\n",
    "            else:\n",
    "                left = mid + 1\n",
    "        return left"
   ]
  },
  {
   "cell_type": "code",
   "execution_count": null,
   "metadata": {},
   "outputs": [],
   "source": [
    "\n",
    "# 658. Find K Closest Elements\n",
    "# https://leetcode.com/problems/find-k-closest-elements/\n",
    "class Solution:\n",
    "    def findClosestElements(self, arr: List[int], k: int, x: int) -> List[int]:\n",
    "        left, right = 0, len(arr) - k\n",
    "        while left < right:\n",
    "            mid = (left + right) // 2\n",
    "            if x - arr[mid] > arr[mid+k] -x:\n",
    "                left = mid + 1\n",
    "            else:\n",
    "                right = mid\n",
    "        return arr[left:left+k]"
   ]
  }
 ],
 "metadata": {
  "kernelspec": {
   "display_name": "Python 3.9.10 64-bit ('3.9.10')",
   "language": "python",
   "name": "python3"
  },
  "language_info": {
   "name": "python",
   "version": "3.9.10"
  },
  "orig_nbformat": 4,
  "vscode": {
   "interpreter": {
    "hash": "aa2211a441334c7f2624a15073580de21bf292f6a92a2e8a80a4aaa186ae135e"
   }
  }
 },
 "nbformat": 4,
 "nbformat_minor": 2
}
