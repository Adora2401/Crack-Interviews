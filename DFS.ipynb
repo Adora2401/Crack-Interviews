{
 "cells": [
  {
   "cell_type": "markdown",
   "metadata": {},
   "source": [
    "（1）DFS中递归的基本要素\n",
    "（2）终止条件的选择；回溯；剪枝\n",
    "（3）什么时候需要排序？\n",
    "（4）如何去除重复元素？一个元素允许使用多次的情况？\n",
    "（6）在图上进行DFS如何避免回到重复节点\n",
    "（5）识别一个隐式图，并使用DFS\n",
    "（6）在某些情况下，利用记忆化搜索进行优化"
   ]
  },
  {
   "cell_type": "code",
   "execution_count": null,
   "metadata": {},
   "outputs": [],
   "source": [
    "# 排列组合：\n",
    "39. Combination Sum\n",
    "https://leetcode.com/problems/combination-sum/\n",
    "40. Combination Sum II\n",
    "https://leetcode.com/problems/combination-sum-ii/\n",
    "46. Permutations\n",
    "https://leetcode.com/problems/permutations/\n",
    "47. Permutations II\n",
    "https://leetcode.com/problems/permutations-ii/\n",
    "77. Combinations\n",
    "https://leetcode.com/problems/combinations/\n",
    "78. Subsets\n",
    "https://leetcode.com/problems/subsets/\n",
    "90. Subsets II\n",
    "https://leetcode.com/problems/subsets-ii/\n",
    "17. Letter Combinations of a Phone Number\n",
    "https://leetcode.com/problems/le ... -of-a-phone-number/\n",
    "22. Generate Parentheses\n",
    "https://leetcode.com/problems/generate-parentheses/\n",
    "51. N-Queens\n",
    "https://leetcode.com/problems/n-queens/\n",
    "254. Factor Combinations\n",
    "https://leetcode.com/problems/factor-combinations/\n",
    "301. Remove Invalid Parentheses\n",
    "https://leetcode.com/problems/remove-invalid-parentheses/\n",
    "491. Increasing Subsequences\n",
    "https://leetcode.com/problems/increasing-subsequences/\n",
    "37. Sudoku Solver\n",
    "https://leetcode.com/problems/sudoku-solver/\n",
    "52. N-Queens II\n",
    "https://leetcode.com/problems/n-queens-ii/\n",
    "93. Restore IP Addresses\n",
    "https://leetcode.com/problems/restore-ip-addresses/\n",
    "131. Palindrome Partitioning\n",
    "https://leetcode.com/problems/palindrome-partitioning/\n",
    "Lint-10. String Permutation II\n",
    "https://www.lintcode.com/problem ... tion-ii/description\n",
    "Lint-570. Find the Missing Number II\n",
    "https://www.lintcode.com/problem ... mber-ii/description\n",
    "Lint-680. Split String\n",
    "https://www.lintcode.com/problem/split-string/description\n",
    "# 二叉树：\n",
    "113. Path Sum II\n",
    "https://leetcode.com/problems/path-sum-ii/\n",
    "257. Binary Tree Paths\n",
    "https://leetcode.com/problems/binary-tree-paths/\n",
    "Lint-246. Binary Tree Path Sum II\n",
    "https://www.lintcode.com/problem/binary-tree-path-sum-ii/solution\n",
    "Lint-376. Binary Tree Path Sum\n",
    "https://www.lintcode.com/problem/binary-tree-path-sum/solution\n",
    "Lint-472. Binary Tree Path Sum III\n",
    "https://www.lintcode.com/problem ... sum-iii/description\n",
    "# 图：\n",
    "140. Word Break II\n",
    "https://leetcode.com/problems/word-break-ii/\n",
    "494. Target Sum\n",
    "https://leetcode.com/problems/target-sum/\n",
    "1192. Critical Connections in a Network\n",
    "https://leetcode.com/problems/critical-connections-in-a-network/\n",
    "126. Word Ladder II\n",
    "https://leetcode.com/problems/word-ladder-ii/\n",
    "290. Word Pattern\n",
    "https://leetcode.com/problems/word-pattern/\n",
    "291. Word Pattern II\n",
    "https://leetcode.com/problems/word-pattern-ii/\n"
   ]
  }
 ],
 "metadata": {
  "kernelspec": {
   "display_name": "Python 3.9.10 64-bit ('3.9.10')",
   "language": "python",
   "name": "python3"
  },
  "language_info": {
   "name": "python",
   "version": "3.9.10"
  },
  "orig_nbformat": 4,
  "vscode": {
   "interpreter": {
    "hash": "aa2211a441334c7f2624a15073580de21bf292f6a92a2e8a80a4aaa186ae135e"
   }
  }
 },
 "nbformat": 4,
 "nbformat_minor": 2
}
